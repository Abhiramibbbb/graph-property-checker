{
 "cells": [
  {
   "cell_type": "code",
   "execution_count": 16,
   "id": "53c831c0",
   "metadata": {},
   "outputs": [],
   "source": [
    "import matplotlib.pyplot as plt\n",
    "import networkx as nx\n",
    "import numpy as np\n",
    "\n"
   ]
  },
  {
   "cell_type": "code",
   "execution_count": 17,
   "id": "fa7687ed",
   "metadata": {},
   "outputs": [
    {
     "name": "stdout",
     "output_type": "stream",
     "text": [
      "Enter the number of vertices: 5\n",
      "Enter the adjacency matrix (each row separated by spaces):\n",
      "0 1 1 0 0\n",
      "1 0 1 1 0\n",
      "1 1 0 1 1\n",
      "0 1 1 0 1\n",
      "0 0 1 1 0\n"
     ]
    }
   ],
   "source": [
    "num_vertices = int(input(\"Enter the number of vertices: \"))\n",
    "print(\"Enter the adjacency matrix (each row separated by spaces):\")\n",
    "\n",
    "# Initialize an empty adjacency matrix\n",
    "adjacency_matrix = np.zeros((num_vertices, num_vertices), dtype=int)\n",
    "\n",
    "# Populate the adjacency matrix based on user input\n",
    "for i in range(num_vertices):\n",
    "    row_values = input().split()\n",
    "    adjacency_matrix[i] = [int(value) for value in row_values]"
   ]
  },
  {
   "cell_type": "code",
   "execution_count": 18,
   "id": "c6829e57",
   "metadata": {},
   "outputs": [],
   "source": [
    "G = nx.Graph()\n",
    "\n",
    "# Add edges based on the adjacency matrix\n",
    "num_vertices = adjacency_matrix.shape[0]\n",
    "G.add_nodes_from(range(1, num_vertices + 1))\n",
    "for i in range(num_vertices):\n",
    "    for j in range(i + 1, num_vertices):\n",
    "        if adjacency_matrix[i, j] == 1:\n",
    "            G.add_edge(i + 1, j + 1)\n"
   ]
  },
  {
   "cell_type": "code",
   "execution_count": 4,
   "id": "3384b4f6",
   "metadata": {},
   "outputs": [
    {
     "data": {
      "text/plain": [
       "Text(0.5, 1.0, 'Graph Visualization')"
      ]
     },
     "execution_count": 4,
     "metadata": {},
     "output_type": "execute_result"
    },
    {
     "data": {
      "image/png": "[encoded data removed]",
      "text/plain": [
       "<Figure size 432x288 with 1 Axes>"
      ]
     },
     "metadata": {},
     "output_type": "display_data"
    }
   ],
   "source": [
    "pos = nx.spring_layout(G)\n",
    "nx.draw(G, pos, with_labels=True, font_weight='bold', node_size=700, node_color='skyblue', font_color='black', font_size=8)\n",
    "plt.title('Graph Visualization')\n",
    "\n"
   ]
  },
  {
   "cell_type": "code",
   "execution_count": 19,
   "id": "0439b072",
   "metadata": {},
   "outputs": [
    {
     "data": {
      "text/plain": [
       "<function matplotlib.pyplot.show(close=None, block=None)>"
      ]
     },
     "execution_count": 19,
     "metadata": {},
     "output_type": "execute_result"
    }
   ],
   "source": [
    "plt.show"
   ]
  },
  {
   "cell_type": "code",
   "execution_count": 20,
   "id": "ec0ec12b",
   "metadata": {},
   "outputs": [],
   "source": [
    "#Find the degree of each vertex\n",
    "degree_sequence = list(G.degree())\n"
   ]
  },
  {
   "cell_type": "code",
   "execution_count": 8,
   "id": "2318c8c3",
   "metadata": {},
   "outputs": [
    {
     "name": "stdout",
     "output_type": "stream",
     "text": [
      "Degree of each vertex:\n",
      "Vertex 1: 2\n",
      "Vertex 2: 3\n",
      "Vertex 3: 4\n",
      "Vertex 4: 3\n",
      "Vertex 5: 2\n"
     ]
    }
   ],
   "source": [
    "# Print the degree of each vertex\n",
    "print(\"Degree of each vertex:\")\n",
    "for vertex, degree in degree_sequence:\n",
    "    print(f\"Vertex {vertex}: {degree}\")\n"
   ]
  },
  {
   "cell_type": "code",
   "execution_count": 21,
   "id": "534f9df6",
   "metadata": {},
   "outputs": [
    {
     "name": "stdout",
     "output_type": "stream",
     "text": [
      "Sum of degrees: 14\n"
     ]
    }
   ],
   "source": [
    "# Calculate the sum of degrees\n",
    "sum_of_degrees = sum(degree for vertex, degree in degree_sequence)\n",
    "print(\"Sum of degrees:\", sum_of_degrees)\n",
    "\n"
   ]
  },
  {
   "cell_type": "code",
   "execution_count": 22,
   "id": "55aa61d8",
   "metadata": {},
   "outputs": [
    {
     "name": "stdout",
     "output_type": "stream",
     "text": [
      "Is the graph cyclic? True\n"
     ]
    }
   ],
   "source": [
    "# Check if the graph is cyclic\n",
    "is_cyclic = nx.is_connected(G)\n",
    "print(\"Is the graph cyclic?\", is_cyclic)\n",
    "\n"
   ]
  },
  {
   "cell_type": "code",
   "execution_count": 23,
   "id": "8727b6e1",
   "metadata": {},
   "outputs": [
    {
     "name": "stdout",
     "output_type": "stream",
     "text": [
      "Is the graph complete? False\n"
     ]
    }
   ],
   "source": [
    "# Check if the graph is complete\n",
    "max_edges = num_vertices * (num_vertices - 1) / 2\n",
    "is_complete = G.number_of_edges() == max_edges\n",
    "print(\"Is the graph complete?\", is_complete)\n",
    "\n"
   ]
  },
  {
   "cell_type": "code",
   "execution_count": 24,
   "id": "7cf74580",
   "metadata": {},
   "outputs": [
    {
     "name": "stdout",
     "output_type": "stream",
     "text": [
      "The graph is not k-regular.\n"
     ]
    }
   ],
   "source": [
    "# Check if the graph is k-regular\n",
    "k_regular = all(degree == degree_sequence[0][1] for vertex, degree in degree_sequence)\n",
    "if k_regular:\n",
    "    print(\"The graph is k-regular.\")\n",
    "else:\n",
    "    print(\"The graph is not k-regular.\")\n"
   ]
  },
  {
   "cell_type": "code",
   "execution_count": 25,
   "id": "9a7e7f28",
   "metadata": {},
   "outputs": [
    {
     "name": "stdout",
     "output_type": "stream",
     "text": [
      "The graph is not a star.\n"
     ]
    }
   ],
   "source": [
    "# Check if the graph is a star\n",
    "is_star = all(degree == 1 or degree == num_vertices - 1 for vertex, degree in degree_sequence)\n",
    "if is_star:\n",
    "    print(\"The graph is a star.\")\n",
    "else:\n",
    "    print(\"The graph is not a star.\")\n",
    "\n"
   ]
  },
  {
   "cell_type": "code",
   "execution_count": 27,
   "id": "e72345a8",
   "metadata": {},
   "outputs": [
    {
     "name": "stdout",
     "output_type": "stream",
     "text": [
      "The graph is not a wheel.\n"
     ]
    }
   ],
   "source": [
    "#Check if the graph is a wheel\n",
    "is_wheel = is_star and G.number_of_edges() == 2 * (num_vertices - 1)\n",
    "if is_wheel:\n",
    "    print(\"The graph is a wheel.\")\n",
    "else:\n",
    "    print(\"The graph is not a wheel.\")"
   ]
  },
  {
   "cell_type": "code",
   "execution_count": null,
   "id": "f0d90346",
   "metadata": {},
   "outputs": [],
   "source": []
  },
  {
   "cell_type": "code",
   "execution_count": null,
   "id": "c7166a09",
   "metadata": {},
   "outputs": [],
   "source": []
  }
 ],
 "metadata": {
  "kernelspec": {
   "display_name": "Python 3 (ipykernel)",
   "language": "python",
   "name": "python3"
  },
  "language_info": {
   "codemirror_mode": {
    "name": "ipython",
    "version": 3
   },
   "file_extension": ".py",
   "mimetype": "text/x-python",
   "name": "python",
   "nbconvert_exporter": "python",
   "pygments_lexer": "ipython3",
   "version": "3.9.7"
  }
 },
 "nbformat": 4,
 "nbformat_minor": 5
}
